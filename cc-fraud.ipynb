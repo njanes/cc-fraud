{
 "cells": [
  {
   "cell_type": "markdown",
   "metadata": {},
   "source": [
    "##### Wednesday the 11th of September, 2024\n",
    "# Performance Comparison of Machine Learning Classification Models for Credit Card Fraud Detection\n",
    "\n",
    "---"
   ]
  },
  {
   "cell_type": "markdown",
   "metadata": {},
   "source": [
    "## Introduction\n",
    "### Background\n",
    "\n",
    "Among the largest expenses for credit card issuers are investments in fraud detection and prevention measures, due to the ever-evolving nature of credit card fraud. Nonetheless, the high costs are necessary to reduce financial losses, protect customer trust, and maintain security and regulatory compliance. One way such companies may reduce fraud-related expenses and improve customer trust is by detecting fraudulent transactions as early as possible, ideally in real-time. \n",
    " \n",
    "Employing machine learning to address this problem could reduce operational costs by automating fraud prevention, and preventing the escalation of fraud patterns, ultimately ensuring a more secure and efficient system.\n",
    "\n",
    "\n",
    "### Objective\n",
    "\n",
    "The goal of this project is to develop a machine learning classification model to predict whether credit card transactions are fraudulent, based on a number of transaction attributes. We will train and compare various machine learning classification models to determine which is optimal for credit card fraud detection. The model types to be compared are Logistic Regression, K Nearest Neighbours, Support Vector Machines, Decision Tree, and Random Forest."
   ]
  },
  {
   "cell_type": "markdown",
   "metadata": {},
   "source": [
    "----\n",
    "## Dataset description\n",
    "The [Credit Card Fraud Detection](https://www.kaggle.com/datasets/nelgiriyewithana/credit-card-fraud-detection-dataset-2023) dataset used in this project contains credit card transaction records for European customers in 2023. It comprises over 550,000 records and 28 transaction attributes (e.g., transaction type, merchant name, location, time) rendered anonymous by principal component analysis (PCA) transformation. Each transaction is labeled as either fraudulent (1) or non-fraudulent (0), which facilitates the training and evaluation of fraud detection systems.\n",
    "\n",
    "The data source is not disclosed to protect cardholder privacy and confidentiality."
   ]
  },
  {
   "cell_type": "markdown",
   "metadata": {},
   "source": [
    "---\n",
    "## Import Python Modules\n",
    "\n",
    "First, we import the libraries/modules that will be used in this project:\n",
    "\n",
    "- pandas\n",
    "- numpy\n",
    "- matplotlib\n",
    "- seaborn\n",
    "- Scikit-learn"
   ]
  },
  {
   "cell_type": "code",
   "execution_count": 1,
   "metadata": {},
   "outputs": [],
   "source": [
    "# Import required packages\n",
    "import pandas as pd\n",
    "import numpy as np\n",
    "from matplotlib import pyplot as plt\n",
    "%matplotlib inline\n",
    "import seaborn as sns\n",
    "sns.set_style('darkgrid')\n",
    "from sklearn.model_selection import train_test_split, cross_validate\n",
    "from sklearn.preprocessing import StandardScaler\n",
    "from sklearn.linear_model import LogisticRegression\n",
    "from sklearn.svm import LinearSVC\n",
    "from sklearn.ensemble import RandomForestClassifier"
   ]
  },
  {
   "cell_type": "markdown",
   "metadata": {},
   "source": [
    "---\n",
    "## Load the Data\n",
    "\n",
    "Let's start by loading the dataset `creditcard_2023.csv` into a dataframe and previewing the first 5 rows of data."
   ]
  },
  {
   "cell_type": "code",
   "execution_count": 2,
   "metadata": {},
   "outputs": [
    {
     "data": {
      "text/html": [
       "<div>\n",
       "<style scoped>\n",
       "    .dataframe tbody tr th:only-of-type {\n",
       "        vertical-align: middle;\n",
       "    }\n",
       "\n",
       "    .dataframe tbody tr th {\n",
       "        vertical-align: top;\n",
       "    }\n",
       "\n",
       "    .dataframe thead th {\n",
       "        text-align: right;\n",
       "    }\n",
       "</style>\n",
       "<table border=\"1\" class=\"dataframe\">\n",
       "  <thead>\n",
       "    <tr style=\"text-align: right;\">\n",
       "      <th></th>\n",
       "      <th>id</th>\n",
       "      <th>V1</th>\n",
       "      <th>V2</th>\n",
       "      <th>V3</th>\n",
       "      <th>V4</th>\n",
       "      <th>V5</th>\n",
       "      <th>V6</th>\n",
       "      <th>V7</th>\n",
       "      <th>V8</th>\n",
       "      <th>V9</th>\n",
       "      <th>...</th>\n",
       "      <th>V21</th>\n",
       "      <th>V22</th>\n",
       "      <th>V23</th>\n",
       "      <th>V24</th>\n",
       "      <th>V25</th>\n",
       "      <th>V26</th>\n",
       "      <th>V27</th>\n",
       "      <th>V28</th>\n",
       "      <th>Amount</th>\n",
       "      <th>Class</th>\n",
       "    </tr>\n",
       "  </thead>\n",
       "  <tbody>\n",
       "    <tr>\n",
       "      <th>0</th>\n",
       "      <td>0</td>\n",
       "      <td>-0.260648</td>\n",
       "      <td>-0.469648</td>\n",
       "      <td>2.496266</td>\n",
       "      <td>-0.083724</td>\n",
       "      <td>0.129681</td>\n",
       "      <td>0.732898</td>\n",
       "      <td>0.519014</td>\n",
       "      <td>-0.130006</td>\n",
       "      <td>0.727159</td>\n",
       "      <td>...</td>\n",
       "      <td>-0.110552</td>\n",
       "      <td>0.217606</td>\n",
       "      <td>-0.134794</td>\n",
       "      <td>0.165959</td>\n",
       "      <td>0.126280</td>\n",
       "      <td>-0.434824</td>\n",
       "      <td>-0.081230</td>\n",
       "      <td>-0.151045</td>\n",
       "      <td>17982.10</td>\n",
       "      <td>0</td>\n",
       "    </tr>\n",
       "    <tr>\n",
       "      <th>1</th>\n",
       "      <td>1</td>\n",
       "      <td>0.985100</td>\n",
       "      <td>-0.356045</td>\n",
       "      <td>0.558056</td>\n",
       "      <td>-0.429654</td>\n",
       "      <td>0.277140</td>\n",
       "      <td>0.428605</td>\n",
       "      <td>0.406466</td>\n",
       "      <td>-0.133118</td>\n",
       "      <td>0.347452</td>\n",
       "      <td>...</td>\n",
       "      <td>-0.194936</td>\n",
       "      <td>-0.605761</td>\n",
       "      <td>0.079469</td>\n",
       "      <td>-0.577395</td>\n",
       "      <td>0.190090</td>\n",
       "      <td>0.296503</td>\n",
       "      <td>-0.248052</td>\n",
       "      <td>-0.064512</td>\n",
       "      <td>6531.37</td>\n",
       "      <td>0</td>\n",
       "    </tr>\n",
       "    <tr>\n",
       "      <th>2</th>\n",
       "      <td>2</td>\n",
       "      <td>-0.260272</td>\n",
       "      <td>-0.949385</td>\n",
       "      <td>1.728538</td>\n",
       "      <td>-0.457986</td>\n",
       "      <td>0.074062</td>\n",
       "      <td>1.419481</td>\n",
       "      <td>0.743511</td>\n",
       "      <td>-0.095576</td>\n",
       "      <td>-0.261297</td>\n",
       "      <td>...</td>\n",
       "      <td>-0.005020</td>\n",
       "      <td>0.702906</td>\n",
       "      <td>0.945045</td>\n",
       "      <td>-1.154666</td>\n",
       "      <td>-0.605564</td>\n",
       "      <td>-0.312895</td>\n",
       "      <td>-0.300258</td>\n",
       "      <td>-0.244718</td>\n",
       "      <td>2513.54</td>\n",
       "      <td>0</td>\n",
       "    </tr>\n",
       "    <tr>\n",
       "      <th>3</th>\n",
       "      <td>3</td>\n",
       "      <td>-0.152152</td>\n",
       "      <td>-0.508959</td>\n",
       "      <td>1.746840</td>\n",
       "      <td>-1.090178</td>\n",
       "      <td>0.249486</td>\n",
       "      <td>1.143312</td>\n",
       "      <td>0.518269</td>\n",
       "      <td>-0.065130</td>\n",
       "      <td>-0.205698</td>\n",
       "      <td>...</td>\n",
       "      <td>-0.146927</td>\n",
       "      <td>-0.038212</td>\n",
       "      <td>-0.214048</td>\n",
       "      <td>-1.893131</td>\n",
       "      <td>1.003963</td>\n",
       "      <td>-0.515950</td>\n",
       "      <td>-0.165316</td>\n",
       "      <td>0.048424</td>\n",
       "      <td>5384.44</td>\n",
       "      <td>0</td>\n",
       "    </tr>\n",
       "    <tr>\n",
       "      <th>4</th>\n",
       "      <td>4</td>\n",
       "      <td>-0.206820</td>\n",
       "      <td>-0.165280</td>\n",
       "      <td>1.527053</td>\n",
       "      <td>-0.448293</td>\n",
       "      <td>0.106125</td>\n",
       "      <td>0.530549</td>\n",
       "      <td>0.658849</td>\n",
       "      <td>-0.212660</td>\n",
       "      <td>1.049921</td>\n",
       "      <td>...</td>\n",
       "      <td>-0.106984</td>\n",
       "      <td>0.729727</td>\n",
       "      <td>-0.161666</td>\n",
       "      <td>0.312561</td>\n",
       "      <td>-0.414116</td>\n",
       "      <td>1.071126</td>\n",
       "      <td>0.023712</td>\n",
       "      <td>0.419117</td>\n",
       "      <td>14278.97</td>\n",
       "      <td>0</td>\n",
       "    </tr>\n",
       "  </tbody>\n",
       "</table>\n",
       "<p>5 rows × 31 columns</p>\n",
       "</div>"
      ],
      "text/plain": [
       "   id        V1        V2        V3        V4        V5        V6        V7  \\\n",
       "0   0 -0.260648 -0.469648  2.496266 -0.083724  0.129681  0.732898  0.519014   \n",
       "1   1  0.985100 -0.356045  0.558056 -0.429654  0.277140  0.428605  0.406466   \n",
       "2   2 -0.260272 -0.949385  1.728538 -0.457986  0.074062  1.419481  0.743511   \n",
       "3   3 -0.152152 -0.508959  1.746840 -1.090178  0.249486  1.143312  0.518269   \n",
       "4   4 -0.206820 -0.165280  1.527053 -0.448293  0.106125  0.530549  0.658849   \n",
       "\n",
       "         V8        V9  ...       V21       V22       V23       V24       V25  \\\n",
       "0 -0.130006  0.727159  ... -0.110552  0.217606 -0.134794  0.165959  0.126280   \n",
       "1 -0.133118  0.347452  ... -0.194936 -0.605761  0.079469 -0.577395  0.190090   \n",
       "2 -0.095576 -0.261297  ... -0.005020  0.702906  0.945045 -1.154666 -0.605564   \n",
       "3 -0.065130 -0.205698  ... -0.146927 -0.038212 -0.214048 -1.893131  1.003963   \n",
       "4 -0.212660  1.049921  ... -0.106984  0.729727 -0.161666  0.312561 -0.414116   \n",
       "\n",
       "        V26       V27       V28    Amount  Class  \n",
       "0 -0.434824 -0.081230 -0.151045  17982.10      0  \n",
       "1  0.296503 -0.248052 -0.064512   6531.37      0  \n",
       "2 -0.312895 -0.300258 -0.244718   2513.54      0  \n",
       "3 -0.515950 -0.165316  0.048424   5384.44      0  \n",
       "4  1.071126  0.023712  0.419117  14278.97      0  \n",
       "\n",
       "[5 rows x 31 columns]"
      ]
     },
     "execution_count": 2,
     "metadata": {},
     "output_type": "execute_result"
    }
   ],
   "source": [
    "data = pd.read_csv(\"creditcard_2023.csv\")\n",
    "data.head()"
   ]
  },
  {
   "cell_type": "markdown",
   "metadata": {},
   "source": [
    "We will sample a subset from the dataset, as it is too resource-intensive to perform hyperparameter tuning on the dataset with >500,000 entries. We do this using the Pandas `.sample()` method with a value of `frac = 0.1`, which specifies that we take a random sample constituting 10% of the original dataset."
   ]
  },
  {
   "cell_type": "code",
   "execution_count": 3,
   "metadata": {},
   "outputs": [],
   "source": [
    "data = data.sample(frac=0.1, random_state=8)"
   ]
  },
  {
   "cell_type": "markdown",
   "metadata": {},
   "source": [
    "We also drop the `id` column from the dataframe as it is not significant for this analysis."
   ]
  },
  {
   "cell_type": "code",
   "execution_count": 4,
   "metadata": {},
   "outputs": [],
   "source": [
    "data = data.drop(columns=\"id\")"
   ]
  },
  {
   "cell_type": "markdown",
   "metadata": {},
   "source": [
    "### Summary Statistics\n",
    "\n",
    "Now, we will return summary statistics for our data set\n",
    "\n",
    "First, the count, mean, standard deviation, minimum, maximum, and 25th, 50th, and 75th percentiles of all variables:"
   ]
  },
  {
   "cell_type": "code",
   "execution_count": 5,
   "metadata": {},
   "outputs": [
    {
     "data": {
      "text/html": [
       "<div>\n",
       "<style scoped>\n",
       "    .dataframe tbody tr th:only-of-type {\n",
       "        vertical-align: middle;\n",
       "    }\n",
       "\n",
       "    .dataframe tbody tr th {\n",
       "        vertical-align: top;\n",
       "    }\n",
       "\n",
       "    .dataframe thead th {\n",
       "        text-align: right;\n",
       "    }\n",
       "</style>\n",
       "<table border=\"1\" class=\"dataframe\">\n",
       "  <thead>\n",
       "    <tr style=\"text-align: right;\">\n",
       "      <th></th>\n",
       "      <th>V1</th>\n",
       "      <th>V2</th>\n",
       "      <th>V3</th>\n",
       "      <th>V4</th>\n",
       "      <th>V5</th>\n",
       "      <th>V6</th>\n",
       "      <th>V7</th>\n",
       "      <th>V8</th>\n",
       "      <th>V9</th>\n",
       "      <th>V10</th>\n",
       "      <th>...</th>\n",
       "      <th>V21</th>\n",
       "      <th>V22</th>\n",
       "      <th>V23</th>\n",
       "      <th>V24</th>\n",
       "      <th>V25</th>\n",
       "      <th>V26</th>\n",
       "      <th>V27</th>\n",
       "      <th>V28</th>\n",
       "      <th>Amount</th>\n",
       "      <th>Class</th>\n",
       "    </tr>\n",
       "  </thead>\n",
       "  <tbody>\n",
       "    <tr>\n",
       "      <th>count</th>\n",
       "      <td>56863.000000</td>\n",
       "      <td>56863.000000</td>\n",
       "      <td>56863.000000</td>\n",
       "      <td>56863.000000</td>\n",
       "      <td>56863.000000</td>\n",
       "      <td>56863.000000</td>\n",
       "      <td>56863.000000</td>\n",
       "      <td>56863.000000</td>\n",
       "      <td>56863.000000</td>\n",
       "      <td>56863.000000</td>\n",
       "      <td>...</td>\n",
       "      <td>56863.000000</td>\n",
       "      <td>56863.000000</td>\n",
       "      <td>56863.000000</td>\n",
       "      <td>56863.000000</td>\n",
       "      <td>56863.000000</td>\n",
       "      <td>56863.000000</td>\n",
       "      <td>56863.000000</td>\n",
       "      <td>56863.000000</td>\n",
       "      <td>56863.000000</td>\n",
       "      <td>56863.000000</td>\n",
       "    </tr>\n",
       "    <tr>\n",
       "      <th>mean</th>\n",
       "      <td>0.000911</td>\n",
       "      <td>-0.001277</td>\n",
       "      <td>-0.000448</td>\n",
       "      <td>0.002208</td>\n",
       "      <td>0.003560</td>\n",
       "      <td>0.009690</td>\n",
       "      <td>-0.000167</td>\n",
       "      <td>-0.014126</td>\n",
       "      <td>0.000017</td>\n",
       "      <td>-0.001812</td>\n",
       "      <td>...</td>\n",
       "      <td>-0.004177</td>\n",
       "      <td>0.003414</td>\n",
       "      <td>0.011063</td>\n",
       "      <td>0.002034</td>\n",
       "      <td>-0.006283</td>\n",
       "      <td>0.001404</td>\n",
       "      <td>-0.003454</td>\n",
       "      <td>-0.001046</td>\n",
       "      <td>12032.063550</td>\n",
       "      <td>0.502119</td>\n",
       "    </tr>\n",
       "    <tr>\n",
       "      <th>std</th>\n",
       "      <td>0.998242</td>\n",
       "      <td>1.001308</td>\n",
       "      <td>0.996455</td>\n",
       "      <td>1.001218</td>\n",
       "      <td>0.985193</td>\n",
       "      <td>0.997412</td>\n",
       "      <td>0.957995</td>\n",
       "      <td>0.989199</td>\n",
       "      <td>1.005235</td>\n",
       "      <td>1.000096</td>\n",
       "      <td>...</td>\n",
       "      <td>1.024954</td>\n",
       "      <td>1.014040</td>\n",
       "      <td>1.009048</td>\n",
       "      <td>0.996969</td>\n",
       "      <td>0.997187</td>\n",
       "      <td>1.001051</td>\n",
       "      <td>0.995272</td>\n",
       "      <td>0.977078</td>\n",
       "      <td>6905.313257</td>\n",
       "      <td>0.500000</td>\n",
       "    </tr>\n",
       "    <tr>\n",
       "      <th>min</th>\n",
       "      <td>-2.796779</td>\n",
       "      <td>-40.194965</td>\n",
       "      <td>-2.578182</td>\n",
       "      <td>-4.795050</td>\n",
       "      <td>-4.298320</td>\n",
       "      <td>-10.559457</td>\n",
       "      <td>-4.351839</td>\n",
       "      <td>-6.535574</td>\n",
       "      <td>-3.748442</td>\n",
       "      <td>-3.163276</td>\n",
       "      <td>...</td>\n",
       "      <td>-12.170779</td>\n",
       "      <td>-6.838888</td>\n",
       "      <td>-21.504910</td>\n",
       "      <td>-3.995989</td>\n",
       "      <td>-9.719067</td>\n",
       "      <td>-8.226969</td>\n",
       "      <td>-5.672326</td>\n",
       "      <td>-15.445771</td>\n",
       "      <td>50.010000</td>\n",
       "      <td>0.000000</td>\n",
       "    </tr>\n",
       "    <tr>\n",
       "      <th>25%</th>\n",
       "      <td>-0.567430</td>\n",
       "      <td>-0.485827</td>\n",
       "      <td>-0.648903</td>\n",
       "      <td>-0.655060</td>\n",
       "      <td>-0.292397</td>\n",
       "      <td>-0.439008</td>\n",
       "      <td>-0.282507</td>\n",
       "      <td>-0.193234</td>\n",
       "      <td>-0.564832</td>\n",
       "      <td>-0.584072</td>\n",
       "      <td>...</td>\n",
       "      <td>-0.167977</td>\n",
       "      <td>-0.487004</td>\n",
       "      <td>-0.234681</td>\n",
       "      <td>-0.642972</td>\n",
       "      <td>-0.557772</td>\n",
       "      <td>-0.634779</td>\n",
       "      <td>-0.304979</td>\n",
       "      <td>-0.230994</td>\n",
       "      <td>6076.885000</td>\n",
       "      <td>0.000000</td>\n",
       "    </tr>\n",
       "    <tr>\n",
       "      <th>50%</th>\n",
       "      <td>-0.093062</td>\n",
       "      <td>-0.134289</td>\n",
       "      <td>-0.002142</td>\n",
       "      <td>-0.070069</td>\n",
       "      <td>0.080902</td>\n",
       "      <td>0.082674</td>\n",
       "      <td>0.233287</td>\n",
       "      <td>-0.115544</td>\n",
       "      <td>0.089299</td>\n",
       "      <td>0.256953</td>\n",
       "      <td>...</td>\n",
       "      <td>-0.038551</td>\n",
       "      <td>-0.024088</td>\n",
       "      <td>-0.058226</td>\n",
       "      <td>0.016352</td>\n",
       "      <td>-0.007635</td>\n",
       "      <td>-0.008434</td>\n",
       "      <td>-0.173794</td>\n",
       "      <td>-0.011809</td>\n",
       "      <td>12015.810000</td>\n",
       "      <td>1.000000</td>\n",
       "    </tr>\n",
       "    <tr>\n",
       "      <th>75%</th>\n",
       "      <td>0.831693</td>\n",
       "      <td>0.344621</td>\n",
       "      <td>0.623933</td>\n",
       "      <td>0.714933</td>\n",
       "      <td>0.444298</td>\n",
       "      <td>0.501646</td>\n",
       "      <td>0.525433</td>\n",
       "      <td>0.043944</td>\n",
       "      <td>0.556619</td>\n",
       "      <td>0.590480</td>\n",
       "      <td>...</td>\n",
       "      <td>0.145605</td>\n",
       "      <td>0.465418</td>\n",
       "      <td>0.158745</td>\n",
       "      <td>0.695637</td>\n",
       "      <td>0.549102</td>\n",
       "      <td>0.676781</td>\n",
       "      <td>0.335091</td>\n",
       "      <td>0.408125</td>\n",
       "      <td>17978.050000</td>\n",
       "      <td>1.000000</td>\n",
       "    </tr>\n",
       "    <tr>\n",
       "      <th>max</th>\n",
       "      <td>2.164795</td>\n",
       "      <td>4.361865</td>\n",
       "      <td>4.396339</td>\n",
       "      <td>3.201536</td>\n",
       "      <td>20.509163</td>\n",
       "      <td>9.295606</td>\n",
       "      <td>37.922674</td>\n",
       "      <td>5.956390</td>\n",
       "      <td>9.069232</td>\n",
       "      <td>14.280317</td>\n",
       "      <td>...</td>\n",
       "      <td>8.087080</td>\n",
       "      <td>9.762960</td>\n",
       "      <td>26.190808</td>\n",
       "      <td>10.820906</td>\n",
       "      <td>10.458350</td>\n",
       "      <td>5.555557</td>\n",
       "      <td>22.915024</td>\n",
       "      <td>36.105635</td>\n",
       "      <td>24039.550000</td>\n",
       "      <td>1.000000</td>\n",
       "    </tr>\n",
       "  </tbody>\n",
       "</table>\n",
       "<p>8 rows × 30 columns</p>\n",
       "</div>"
      ],
      "text/plain": [
       "                 V1            V2            V3            V4            V5  \\\n",
       "count  56863.000000  56863.000000  56863.000000  56863.000000  56863.000000   \n",
       "mean       0.000911     -0.001277     -0.000448      0.002208      0.003560   \n",
       "std        0.998242      1.001308      0.996455      1.001218      0.985193   \n",
       "min       -2.796779    -40.194965     -2.578182     -4.795050     -4.298320   \n",
       "25%       -0.567430     -0.485827     -0.648903     -0.655060     -0.292397   \n",
       "50%       -0.093062     -0.134289     -0.002142     -0.070069      0.080902   \n",
       "75%        0.831693      0.344621      0.623933      0.714933      0.444298   \n",
       "max        2.164795      4.361865      4.396339      3.201536     20.509163   \n",
       "\n",
       "                 V6            V7            V8            V9           V10  \\\n",
       "count  56863.000000  56863.000000  56863.000000  56863.000000  56863.000000   \n",
       "mean       0.009690     -0.000167     -0.014126      0.000017     -0.001812   \n",
       "std        0.997412      0.957995      0.989199      1.005235      1.000096   \n",
       "min      -10.559457     -4.351839     -6.535574     -3.748442     -3.163276   \n",
       "25%       -0.439008     -0.282507     -0.193234     -0.564832     -0.584072   \n",
       "50%        0.082674      0.233287     -0.115544      0.089299      0.256953   \n",
       "75%        0.501646      0.525433      0.043944      0.556619      0.590480   \n",
       "max        9.295606     37.922674      5.956390      9.069232     14.280317   \n",
       "\n",
       "       ...           V21           V22           V23           V24  \\\n",
       "count  ...  56863.000000  56863.000000  56863.000000  56863.000000   \n",
       "mean   ...     -0.004177      0.003414      0.011063      0.002034   \n",
       "std    ...      1.024954      1.014040      1.009048      0.996969   \n",
       "min    ...    -12.170779     -6.838888    -21.504910     -3.995989   \n",
       "25%    ...     -0.167977     -0.487004     -0.234681     -0.642972   \n",
       "50%    ...     -0.038551     -0.024088     -0.058226      0.016352   \n",
       "75%    ...      0.145605      0.465418      0.158745      0.695637   \n",
       "max    ...      8.087080      9.762960     26.190808     10.820906   \n",
       "\n",
       "                V25           V26           V27           V28        Amount  \\\n",
       "count  56863.000000  56863.000000  56863.000000  56863.000000  56863.000000   \n",
       "mean      -0.006283      0.001404     -0.003454     -0.001046  12032.063550   \n",
       "std        0.997187      1.001051      0.995272      0.977078   6905.313257   \n",
       "min       -9.719067     -8.226969     -5.672326    -15.445771     50.010000   \n",
       "25%       -0.557772     -0.634779     -0.304979     -0.230994   6076.885000   \n",
       "50%       -0.007635     -0.008434     -0.173794     -0.011809  12015.810000   \n",
       "75%        0.549102      0.676781      0.335091      0.408125  17978.050000   \n",
       "max       10.458350      5.555557     22.915024     36.105635  24039.550000   \n",
       "\n",
       "              Class  \n",
       "count  56863.000000  \n",
       "mean       0.502119  \n",
       "std        0.500000  \n",
       "min        0.000000  \n",
       "25%        0.000000  \n",
       "50%        1.000000  \n",
       "75%        1.000000  \n",
       "max        1.000000  \n",
       "\n",
       "[8 rows x 30 columns]"
      ]
     },
     "execution_count": 5,
     "metadata": {},
     "output_type": "execute_result"
    }
   ],
   "source": [
    "data.describe()"
   ]
  },
  {
   "cell_type": "markdown",
   "metadata": {},
   "source": [
    "Let's look at the column names and data type of each column in our data frame"
   ]
  },
  {
   "cell_type": "code",
   "execution_count": 6,
   "metadata": {},
   "outputs": [
    {
     "name": "stdout",
     "output_type": "stream",
     "text": [
      "<class 'pandas.core.frame.DataFrame'>\n",
      "Index: 56863 entries, 128926 to 310494\n",
      "Data columns (total 30 columns):\n",
      " #   Column  Non-Null Count  Dtype  \n",
      "---  ------  --------------  -----  \n",
      " 0   V1      56863 non-null  float64\n",
      " 1   V2      56863 non-null  float64\n",
      " 2   V3      56863 non-null  float64\n",
      " 3   V4      56863 non-null  float64\n",
      " 4   V5      56863 non-null  float64\n",
      " 5   V6      56863 non-null  float64\n",
      " 6   V7      56863 non-null  float64\n",
      " 7   V8      56863 non-null  float64\n",
      " 8   V9      56863 non-null  float64\n",
      " 9   V10     56863 non-null  float64\n",
      " 10  V11     56863 non-null  float64\n",
      " 11  V12     56863 non-null  float64\n",
      " 12  V13     56863 non-null  float64\n",
      " 13  V14     56863 non-null  float64\n",
      " 14  V15     56863 non-null  float64\n",
      " 15  V16     56863 non-null  float64\n",
      " 16  V17     56863 non-null  float64\n",
      " 17  V18     56863 non-null  float64\n",
      " 18  V19     56863 non-null  float64\n",
      " 19  V20     56863 non-null  float64\n",
      " 20  V21     56863 non-null  float64\n",
      " 21  V22     56863 non-null  float64\n",
      " 22  V23     56863 non-null  float64\n",
      " 23  V24     56863 non-null  float64\n",
      " 24  V25     56863 non-null  float64\n",
      " 25  V26     56863 non-null  float64\n",
      " 26  V27     56863 non-null  float64\n",
      " 27  V28     56863 non-null  float64\n",
      " 28  Amount  56863 non-null  float64\n",
      " 29  Class   56863 non-null  int64  \n",
      "dtypes: float64(29), int64(1)\n",
      "memory usage: 13.4 MB\n"
     ]
    }
   ],
   "source": [
    "data.info()"
   ]
  },
  {
   "cell_type": "markdown",
   "metadata": {},
   "source": [
    "Now, let's verify there are no missing values in our data:"
   ]
  },
  {
   "cell_type": "code",
   "execution_count": 7,
   "metadata": {},
   "outputs": [
    {
     "data": {
      "text/plain": [
       "V1        False\n",
       "V2        False\n",
       "V3        False\n",
       "V4        False\n",
       "V5        False\n",
       "V6        False\n",
       "V7        False\n",
       "V8        False\n",
       "V9        False\n",
       "V10       False\n",
       "V11       False\n",
       "V12       False\n",
       "V13       False\n",
       "V14       False\n",
       "V15       False\n",
       "V16       False\n",
       "V17       False\n",
       "V18       False\n",
       "V19       False\n",
       "V20       False\n",
       "V21       False\n",
       "V22       False\n",
       "V23       False\n",
       "V24       False\n",
       "V25       False\n",
       "V26       False\n",
       "V27       False\n",
       "V28       False\n",
       "Amount    False\n",
       "Class     False\n",
       "dtype: bool"
      ]
     },
     "execution_count": 7,
     "metadata": {},
     "output_type": "execute_result"
    }
   ],
   "source": [
    "data.isna().any()"
   ]
  },
  {
   "cell_type": "markdown",
   "metadata": {},
   "source": [
    "---\n",
    "## Exploratory Data Analysis"
   ]
  },
  {
   "cell_type": "markdown",
   "metadata": {},
   "source": [
    "### Distributions of Features\n",
    "To visualize the distribution of each feature, we plot a histogram matrix as we have only numeric features\n",
    "#### Plotting Histogram Matrix"
   ]
  },
  {
   "cell_type": "code",
   "execution_count": 8,
   "metadata": {},
   "outputs": [
    {
     "data": {
      "image/png": "[encoded data removed]",
      "text/plain": [
       "<Figure size 1600x1200 with 30 Axes>"
      ]
     },
     "metadata": {},
     "output_type": "display_data"
    }
   ],
   "source": [
    "# Creating numeric feature data frame and list\n",
    "features = data\n",
    "features_list = list(features)\n",
    "# Creating histogram grid\n",
    "features.hist(figsize=(16, 12), layout=(5, 6), xlabelsize=9, ylabelsize=9)\n",
    "plt.subplots_adjust(hspace=0.5, wspace=0.5)\n",
    "plt.suptitle(\"Feature Histogram Matrix\", fontsize=18, fontweight=\"bold\", y=0.95)\n",
    "plt.text(-9, 100000, \"Count\", ha=\"left\", va=\"center\", rotation=\"vertical\", fontsize=16)\n",
    "plt.text(\n",
    "    -4, -15000, \"Value\", ha=\"left\", va=\"center\", rotation=\"horizontal\", fontsize=16\n",
    ");"
   ]
  },
  {
   "cell_type": "markdown",
   "metadata": {},
   "source": [
    "### Distribution of Target\n",
    "To get an idea of the distribution of the target variable, we first use the `value_counts()` method to return the count of each category. To visualize the distribution, we plot a countplot, which shows the count of both genuine and fraudulent transactions in the dataset."
   ]
  },
  {
   "cell_type": "code",
   "execution_count": 9,
   "metadata": {},
   "outputs": [
    {
     "data": {
      "text/plain": [
       "Class\n",
       "1    28552\n",
       "0    28311\n",
       "Name: count, dtype: int64"
      ]
     },
     "execution_count": 9,
     "metadata": {},
     "output_type": "execute_result"
    }
   ],
   "source": [
    "data[\"Class\"].value_counts()"
   ]
  },
  {
   "cell_type": "markdown",
   "metadata": {},
   "source": [
    "#### Plotting the Target Distribution"
   ]
  },
  {
   "cell_type": "code",
   "execution_count": 10,
   "metadata": {},
   "outputs": [
    {
     "name": "stderr",
     "output_type": "stream",
     "text": [
      "C:\\Users\\noah8\\AppData\\Local\\Temp\\ipykernel_17180\\3463099390.py:3: UserWarning: set_ticklabels() should only be used with a fixed number of ticks, i.e. after set_ticks() or using a FixedLocator.\n",
      "  plot.set(\n"
     ]
    },
    {
     "data": {
      "text/plain": [
       "Text(0, 0.5, 'Count')"
      ]
     },
     "execution_count": 10,
     "metadata": {},
     "output_type": "execute_result"
    },
    {
     "data": {
      "image/png": "[encoded data removed]",
      "text/plain": [
       "<Figure size 800x600 with 1 Axes>"
      ]
     },
     "metadata": {},
     "output_type": "display_data"
    }
   ],
   "source": [
    "fig, ax = plt.subplots(figsize=(8, 6))\n",
    "plot = sns.countplot(data, x=\"Class\", width=0.5)\n",
    "plot.set(\n",
    "    xticklabels=[\"Genuine\", \"Fraudulent\"],\n",
    "    title=\"Count of Genuine and Fraudulent Transactions\",\n",
    ")\n",
    "plt.title(\n",
    "    \"Count of Genuine and Fraudulent Transactions\",\n",
    "    fontsize=16,\n",
    "    fontweight=\"bold\",\n",
    "    y=1.05,\n",
    ")\n",
    "plt.xlabel(\"Transaction Class\", fontsize=14)\n",
    "plt.ylabel(\"Count\", fontsize=14)"
   ]
  },
  {
   "cell_type": "markdown",
   "metadata": {},
   "source": [
    "As evident in the above plot, the target variable is balanced with 284,315 genuine transactions and 284,315 fraudulent transactions."
   ]
  },
  {
   "cell_type": "markdown",
   "metadata": {},
   "source": [
    "---\n",
    "## Feature Engineering and Variable Transformation\n",
    "### Train/Test Split\n",
    "Before doing any feature engineering or variable transformation, we first split the data frame into two: a training split and a test split. Splitting the data before pre-processing eliminates the possibility of data leakage."
   ]
  },
  {
   "cell_type": "code",
   "execution_count": 11,
   "metadata": {},
   "outputs": [],
   "source": [
    "X = data.drop(columns=\"Class\")\n",
    "y = data[\"Class\"]\n",
    "\n",
    "X_train, X_test, y_train, y_test = train_test_split(X, y, test_size=0.2, random_state=8)"
   ]
  },
  {
   "cell_type": "markdown",
   "metadata": {},
   "source": [
    "### Feature Scaling"
   ]
  },
  {
   "cell_type": "code",
   "execution_count": 12,
   "metadata": {},
   "outputs": [],
   "source": [
    "scaler = StandardScaler()\n",
    "\n",
    "X_train.iloc[:, 0:29] = scaler.fit_transform(X_train.iloc[:, 0:29])\n",
    "X_test.iloc[:, 0:29] = scaler.fit_transform(X_test.iloc[:, 0:29])"
   ]
  },
  {
   "cell_type": "markdown",
   "metadata": {},
   "source": [
    "---\n",
    "## Model Development\n"
   ]
  },
  {
   "cell_type": "markdown",
   "metadata": {},
   "source": [
    "### Logistic Regression Model"
   ]
  },
  {
   "cell_type": "code",
   "execution_count": 13,
   "metadata": {},
   "outputs": [
    {
     "name": "stdout",
     "output_type": "stream",
     "text": [
      "Mean Logistic Regression Cross-Validation Scores:\n"
     ]
    },
    {
     "data": {
      "text/plain": [
       "fit_time       0.043551\n",
       "score_time     0.001902\n",
       "test_score     0.965861\n",
       "train_score    0.966273\n",
       "dtype: float64"
      ]
     },
     "execution_count": 13,
     "metadata": {},
     "output_type": "execute_result"
    }
   ],
   "source": [
    "# Create logistic regression model\n",
    "lr = LogisticRegression(random_state=8).fit(X_train, y_train)\n",
    "lr_score = pd.DataFrame(cross_validate(lr, X_train, y_train, cv=5, return_train_score=True))\n",
    "print(\"Mean Logistic Regression Cross-Validation Scores:\")\n",
    "lr_score.mean()\n"
   ]
  },
  {
   "cell_type": "markdown",
   "metadata": {},
   "source": [
    "### Linear Support Vector Classification Model"
   ]
  },
  {
   "cell_type": "code",
   "execution_count": 14,
   "metadata": {},
   "outputs": [
    {
     "name": "stdout",
     "output_type": "stream",
     "text": [
      "Mean Linear SVC Cross-Validation Scores:\n"
     ]
    },
    {
     "data": {
      "text/plain": [
       "fit_time       0.062159\n",
       "score_time     0.001914\n",
       "test_score     0.958101\n",
       "train_score    0.958090\n",
       "dtype: float64"
      ]
     },
     "execution_count": 14,
     "metadata": {},
     "output_type": "execute_result"
    }
   ],
   "source": [
    "# Create linear SVC model\n",
    "sv = LinearSVC(C=0.001, random_state=8, dual=\"auto\").fit(X_train, y_train)\n",
    "sv_score = pd.DataFrame(cross_validate(sv, X_train, y_train, cv=5, return_train_score=True))\n",
    "print(\"Mean Linear SVC Cross-Validation Scores:\")\n",
    "sv_score.mean()"
   ]
  },
  {
   "cell_type": "markdown",
   "metadata": {},
   "source": [
    "### Random Forest Model"
   ]
  },
  {
   "cell_type": "code",
   "execution_count": 15,
   "metadata": {},
   "outputs": [
    {
     "name": "stdout",
     "output_type": "stream",
     "text": [
      "Mean Random Forest Cross-Validation Scores:\n"
     ]
    },
    {
     "data": {
      "text/plain": [
       "fit_time       5.635853\n",
       "score_time     0.018312\n",
       "test_score     0.983865\n",
       "train_score    0.988168\n",
       "dtype: float64"
      ]
     },
     "execution_count": 15,
     "metadata": {},
     "output_type": "execute_result"
    }
   ],
   "source": [
    "# Create Random Forest model\n",
    "rf = RandomForestClassifier(n_estimators = 50, max_depth=10, max_features = 0.2).fit(X_train, y_train)\n",
    "rf_score = pd.DataFrame(cross_validate(rf, X_train, y_train, cv=5, n_jobs=-1, return_train_score=True))\n",
    "print(\"Mean Random Forest Cross-Validation Scores:\")\n",
    "rf_score.mean()"
   ]
  },
  {
   "cell_type": "markdown",
   "metadata": {},
   "source": [
    "---\n",
    "## Preliminary Score Comparison"
   ]
  },
  {
   "cell_type": "markdown",
   "metadata": {},
   "source": [
    "Below, we compare the training scores for the three models trained in the previous section"
   ]
  },
  {
   "cell_type": "code",
   "execution_count": 16,
   "metadata": {},
   "outputs": [
    {
     "data": {
      "text/html": [
       "<div>\n",
       "<style scoped>\n",
       "    .dataframe tbody tr th:only-of-type {\n",
       "        vertical-align: middle;\n",
       "    }\n",
       "\n",
       "    .dataframe tbody tr th {\n",
       "        vertical-align: top;\n",
       "    }\n",
       "\n",
       "    .dataframe thead th {\n",
       "        text-align: right;\n",
       "    }\n",
       "</style>\n",
       "<table border=\"1\" class=\"dataframe\">\n",
       "  <thead>\n",
       "    <tr style=\"text-align: right;\">\n",
       "      <th></th>\n",
       "      <th>Model</th>\n",
       "      <th>Training Score</th>\n",
       "      <th>Test Score</th>\n",
       "    </tr>\n",
       "  </thead>\n",
       "  <tbody>\n",
       "    <tr>\n",
       "      <th>0</th>\n",
       "      <td>Logistic Regression</td>\n",
       "      <td>0.966273</td>\n",
       "      <td>0.965861</td>\n",
       "    </tr>\n",
       "    <tr>\n",
       "      <th>1</th>\n",
       "      <td>Linear SVC</td>\n",
       "      <td>0.958090</td>\n",
       "      <td>0.958101</td>\n",
       "    </tr>\n",
       "    <tr>\n",
       "      <th>2</th>\n",
       "      <td>Random Forest</td>\n",
       "      <td>0.988168</td>\n",
       "      <td>0.983865</td>\n",
       "    </tr>\n",
       "  </tbody>\n",
       "</table>\n",
       "</div>"
      ],
      "text/plain": [
       "                 Model  Training Score  Test Score\n",
       "0  Logistic Regression        0.966273    0.965861\n",
       "1           Linear SVC        0.958090    0.958101\n",
       "2        Random Forest        0.988168    0.983865"
      ]
     },
     "execution_count": 16,
     "metadata": {},
     "output_type": "execute_result"
    }
   ],
   "source": [
    "scores_comp = pd.DataFrame(\n",
    "    {\n",
    "        \"Model\": [\"Logistic Regression\", \"Linear SVC\", \"Random Forest\"],\n",
    "        \"Training Score\": [\n",
    "            lr_score[\"train_score\"].mean(),\n",
    "            sv_score[\"train_score\"].mean(),\n",
    "            rf_score[\"train_score\"].mean(),\n",
    "        ],\n",
    "        \"Test Score\": [\n",
    "            lr_score[\"test_score\"].mean(),\n",
    "            sv_score[\"test_score\"].mean(),\n",
    "            rf_score[\"test_score\"].mean(),\n",
    "        ],\n",
    "    }\n",
    ")\n",
    "scores_comp"
   ]
  },
  {
   "cell_type": "markdown",
   "metadata": {},
   "source": [
    "In terms of training score, the ***Random Forest Classifier model is the best-performing***, followed by the Logistic Regression model, then the Linear SVC model. The same trend is seen in comparison of the models' test scores. However, while the Logistic Regression and Random Forest models exhibit lower test scores than their respective training scores, the Linear SVC model scores better on the test set than the training set. This could suggest that the Linear SVC model is slightly underfitting; while the opposite could be said for the Logistic Regression and Random Forest models. "
   ]
  },
  {
   "cell_type": "markdown",
   "metadata": {},
   "source": [
    "---\n",
    "# Discussion\n",
    "The Random Forest Classifier model is well-suited for the object of distinguishing between genuiune and fraudulent credit card transactions, both in terms of explainability and predictability. The model has robust predictive power, and while other models (e.g., Decision Tree) may outbid the Random Forest Classifier in terms of explainability, this is not of concern in this application as the results are not necessarily to be interpreted by, or presented to shareholders and the public and are rather intended to serve the company as internal metrics. "
   ]
  },
  {
   "cell_type": "markdown",
   "metadata": {},
   "source": [
    "The next step in the analysis of this data is to perform hyperparameter tuning on the Random Forest Classifier model to optimize its performance. Either GridSearchCV or RandomizedSearchCV would be suitable to do this; however, RandomizedSearchCV may be preferable as it is typically more efficient, and the initial dataset has a very large number of entries."
   ]
  }
 ],
 "metadata": {
  "kernelspec": {
   "display_name": "Python 3",
   "language": "python",
   "name": "python3"
  },
  "language_info": {
   "codemirror_mode": {
    "name": "ipython",
    "version": 3
   },
   "file_extension": ".py",
   "mimetype": "text/x-python",
   "name": "python",
   "nbconvert_exporter": "python",
   "pygments_lexer": "ipython3",
   "version": "3.11.8"
  }
 },
 "nbformat": 4,
 "nbformat_minor": 2
}
